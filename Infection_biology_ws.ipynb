{
  "nbformat": 4,
  "nbformat_minor": 0,
  "metadata": {
    "colab": {
      "provenance": [],
      "authorship_tag": "ABX9TyOUBp+54LOpQLsBrv/GDmk5",
      "include_colab_link": true
    },
    "kernelspec": {
      "name": "python3",
      "display_name": "Python 3"
    },
    "language_info": {
      "name": "python"
    }
  },
  "cells": [
    {
      "cell_type": "markdown",
      "metadata": {
        "id": "view-in-github",
        "colab_type": "text"
      },
      "source": [
        "<a href=\"https://colab.research.google.com/github/patrickbryant1/infection_biology_ws/blob/main/Infection_biology_ws.ipynb\" target=\"_parent\"><img src=\"https://colab.research.google.com/assets/colab-badge.svg\" alt=\"Open In Colab\"/></a>"
      ]
    },
    {
      "cell_type": "markdown",
      "source": [
        "### AI Applications in Infection Biology\n",
        "\n",
        "Hi and welcome to the protein structure prediction exercise for the course AI Applications in Infection Biology.\n",
        "This exercise is about finding interesting targets to modulate infection and then modulating the infection by designing an inhibitor (drug).\n",
        "\\\n",
        "\\\n",
        "Please follow the instructions below."
      ],
      "metadata": {
        "id": "-45u160uK4Qy"
      }
    },
    {
      "cell_type": "code",
      "source": [
        "#@title #Predict the structure of a host-pathogen complex with [ColabFold](https://www.nature.com/articles/s41592-022-01488-1).\n",
        "#@markdown Colabfold is a webversion of AlphaFold2. \\\n",
        "#@markdown #Inputs\n",
        "#@markdown - *Sequence1* - the sequence of the host protein.\n",
        "ID1 = \"UBA1\" #@param {type:\"string\"}\n",
        "SEQUENCE1 = \"MSSSPLSKKRRVSGPDPKPGSNCSPAQSVLSEVPSVPTNGMAKNGSEADIDEGLYSRQLYVLGHEAMKRLQTSSVLVSGLRGLGVEIAKNIILGGVKAVTLHDQGTAQWADLSSQFYLREEDIGKNRAEVSQPRLAELNSYVPVTAYTGPLVEDFLSGFQVVVLTNTPLEDQLRVGEFCHNRGIKLVVADTRGLFGQLFCDFGEEMILTDSNGEQPLSAMVSMVTKDNPGVVTCLDEARHGFESGDFVSFSEVQGMVELNGNQPMEIKVLGPYTFSICDTSNFSDYIRGGIVSQVKVPKKISFKSLVASLAEPDFVVTDFAKFSRPAQLHIGFQALHQFCAQHGRPPRPRNEEDAAELVALAQAVNARALPAVQQNNLDEDLIRKLAYVAAGDLAPINAFIGGLAAQEVMKACSGKFMPIMQWLYFDALECLPEDKEVLTEDKCLQRQNRYDGQVAVFGSDLQEKLGKQKYFLVGAGAIGCELLKNFAMIGLGCGEGGEIIVTDMDTIEKSNLNRQFLFRPWDVTKLKSDTAAAAVRQMNPHIRVTSHQNRVGPDTERIYDDDFFQNLDGVANALDNVDARMYMDRRCVYYRKPLLESGTLGTKGNVQVVIPFLTESYSSSQDPPEKSIPICTLKNFPNAIEHTLQWARDEFEGLFKQPAENVNQYLTDPKFVERTLRLAGTQPLEVLEAVQRSLVLQRPQTWADCVTWACHHWHTQYSNNIRQLLHNFPPDQLTSSGAPFWSGPKRCPHPLTFDVNNPLHLDYVMAAANLFAQTYGLTGSQDRAAVATFLQSVQVPEFTPKSGVKIHVSDQELQSANASVDDSRLEELKATLPSPDKLPGFKMYPIDFEKDDDSNFHMDFIVAASNLRAENYDIPSADRHKSKLIAGKIIPAIATTTAAVVGLVCLELYKVVQGHRQLDSYKNGFLNLALPFFGFSEPLAAPRHQYYNQEWTLWDRFEVQGLQPNGEEMTLKQFLDYFKTEHKLEITMLSQGVSMLYSFFMPAAKLKERLDQPMTEIVSRVSKRKLGRHVRALVLELCCNDESGEDVEVPYVRYTIR\" #@param {type:\"string\"}\n",
        "\n",
        "#@markdown - *Sequence2* - the sequence of the pathogenic protein.\n",
        "ID2 = \"E2\" #@param {type:\"string\"}\n",
        "SEQUENCE2 = \"METLCQRLNVCQDKILTHYENDSTDLRDHIDYWKHMRLECAIYYKAREMGFKHINHQVVPTLAVSKNKALQAIELQLTLETIYNSQYSNEKWTLQDVSLEVYLTAPTGCIKKHGYTVEVQFDGDICNTMHYTNWTHIYICEEASVTVVEGQVDYYGLYYVHEGIRTYFVQFKDDAEKYSKNKVWEVHAGGQVILCPTSVFSSNEVSSPEIIRQHLANHPAATHTKAVALGTEETQTTIQRPRSEPDTGNPCHTTKLLHRDSVDSAPILTAFNSSHKGRINCNSNTTPIVHLKGDANTLKCLRYRFKKHCTLYTAVSSTWHWTGHNVKHKSAIVTLTYDSEWQRDQFLSQVKIPKTITVSTGFMS\" #@param {type:\"string\"}\n",
        "\n",
        "#@markdown Let's write the sequences as specified by their notebook: \\\n",
        "#@markdown Use `:` to specify inter-protein chainbreaks for **modeling complexes**\n",
        "\n",
        "print('Complex sequence for',ID1+'-'+ID2+':')\n",
        "print(SEQUENCE1+':'+SEQUENCE2)\n",
        "\n",
        "#@markdown Copy this sequence and input to [ColabFold](https://colab.research.google.com/github/sokrypton/ColabFold/blob/main/AlphaFold2.ipynb).\n",
        "\n"
      ],
      "metadata": {
        "colab": {
          "base_uri": "https://localhost:8080/"
        },
        "cellView": "form",
        "id": "WxSfFKtSMMhM",
        "outputId": "88f5ec8f-d21a-49ef-f882-6141df4839f8"
      },
      "execution_count": 5,
      "outputs": [
        {
          "output_type": "stream",
          "name": "stdout",
          "text": [
            "Complex sequence for UBA1-E2:\n",
            "MSSSPLSKKRRVSGPDPKPGSNCSPAQSVLSEVPSVPTNGMAKNGSEADIDEGLYSRQLYVLGHEAMKRLQTSSVLVSGLRGLGVEIAKNIILGGVKAVTLHDQGTAQWADLSSQFYLREEDIGKNRAEVSQPRLAELNSYVPVTAYTGPLVEDFLSGFQVVVLTNTPLEDQLRVGEFCHNRGIKLVVADTRGLFGQLFCDFGEEMILTDSNGEQPLSAMVSMVTKDNPGVVTCLDEARHGFESGDFVSFSEVQGMVELNGNQPMEIKVLGPYTFSICDTSNFSDYIRGGIVSQVKVPKKISFKSLVASLAEPDFVVTDFAKFSRPAQLHIGFQALHQFCAQHGRPPRPRNEEDAAELVALAQAVNARALPAVQQNNLDEDLIRKLAYVAAGDLAPINAFIGGLAAQEVMKACSGKFMPIMQWLYFDALECLPEDKEVLTEDKCLQRQNRYDGQVAVFGSDLQEKLGKQKYFLVGAGAIGCELLKNFAMIGLGCGEGGEIIVTDMDTIEKSNLNRQFLFRPWDVTKLKSDTAAAAVRQMNPHIRVTSHQNRVGPDTERIYDDDFFQNLDGVANALDNVDARMYMDRRCVYYRKPLLESGTLGTKGNVQVVIPFLTESYSSSQDPPEKSIPICTLKNFPNAIEHTLQWARDEFEGLFKQPAENVNQYLTDPKFVERTLRLAGTQPLEVLEAVQRSLVLQRPQTWADCVTWACHHWHTQYSNNIRQLLHNFPPDQLTSSGAPFWSGPKRCPHPLTFDVNNPLHLDYVMAAANLFAQTYGLTGSQDRAAVATFLQSVQVPEFTPKSGVKIHVSDQELQSANASVDDSRLEELKATLPSPDKLPGFKMYPIDFEKDDDSNFHMDFIVAASNLRAENYDIPSADRHKSKLIAGKIIPAIATTTAAVVGLVCLELYKVVQGHRQLDSYKNGFLNLALPFFGFSEPLAAPRHQYYNQEWTLWDRFEVQGLQPNGEEMTLKQFLDYFKTEHKLEITMLSQGVSMLYSFFMPAAKLKERLDQPMTEIVSRVSKRKLGRHVRALVLELCCNDESGEDVEVPYVRYTIR:METLCQRLNVCQDKILTHYENDSTDLRDHIDYWKHMRLECAIYYKAREMGFKHINHQVVPTLAVSKNKALQAIELQLTLETIYNSQYSNEKWTLQDVSLEVYLTAPTGCIKKHGYTVEVQFDGDICNTMHYTNWTHIYICEEASVTVVEGQVDYYGLYYVHEGIRTYFVQFKDDAEKYSKNKVWEVHAGGQVILCPTSVFSSNEVSSPEIIRQHLANHPAATHTKAVALGTEETQTTIQRPRSEPDTGNPCHTTKLLHRDSVDSAPILTAFNSSHKGRINCNSNTTPIVHLKGDANTLKCLRYRFKKHCTLYTAVSSTWHWTGHNVKHKSAIVTLTYDSEWQRDQFLSQVKIPKTITVSTGFMS\n"
          ]
        }
      ]
    },
    {
      "cell_type": "markdown",
      "source": [
        "\n",
        "Upload the predictions here. Click the folder icon (Files) to the left and select the upload file icon.\n",
        "\n",
        "**Make sure to name the files** \"ID1-ID2_pred.pdb\", e.g. UBA1-E2_[1-5].pdb."
      ],
      "metadata": {
        "id": "3tWEl0BEOs-l"
      }
    },
    {
      "cell_type": "code",
      "source": [
        "#@title Visualise the predicted structures of the interacting pairs.\n",
        "#@markdown Let's visualise the predictions and see if we can pick a good target region\n",
        "#@markdown to inhibit the interaction based on the predicted interface(s).\n",
        "\n",
        "\n",
        "#@markdown We also calculate the confidence in the interface using [pDockQ](https://www.nature.com/articles/s41467-022-28865-w) and an interface cutoff of CBs from different chains being within 8 Å.\n",
        "interface_cutoff = 8 # @param {type:\"number\"}\n",
        "STYLE = \"stick\" #@param [\"cartoon\", \"sphere\", \"stick\"]\n",
        "\n",
        "import glob\n",
        "#Go through all mutation crops\n",
        "for ind1, row1 in plddt_df.iterrows():\n",
        "  print('Mut', row1.mut)\n",
        "  for ind2, row2 in sel_seqs.iterrows():\n",
        "    if row2.STRING_ID==STRING_ID:\n",
        "      continue\n",
        "    PPI_ID = row1.mut+'-'+STRING_ID+'-'+row2.STRING_ID\n",
        "\n",
        "    #Get all preds\n",
        "    all_preds = glob.glob('/content/'+PPI_ID+'*.pdb')\n",
        "    if len(all_preds)<1:\n",
        "      continue\n",
        "\n",
        "\n",
        "    for pred in all_preds:\n",
        "\n",
        "      view = py3Dmol.view(js='https://3dmol.org/build/3Dmol.js',)\n",
        "      #Highlight\n",
        "      view.addModel(open(pred,'r').read(),'pdb')\n",
        "      view.setStyle({'chain':'A'},{STYLE: {'color':'green'}})\n",
        "      view.setStyle({'chain':'B'},{STYLE: {'color':'blue'}})\n",
        "\n",
        "      plddt_per_chain = {'A':[], 'B':[]}\n",
        "      CB_coords_per_chain = {'A':[], 'B':[]}\n",
        "      with open(pred,\"r\") as ifile:\n",
        "          system = \"\".join([x for x in ifile])\n",
        "      i = 0\n",
        "      for line in system.split(\"\\n\"):\n",
        "          split = line.split()\n",
        "          if len(split) == 0 or split[0] != \"ATOM\":\n",
        "              continue\n",
        "          idx = int(line[22:26])\n",
        "          chain = line[21]\n",
        "          plddt = float(line[61:66])\n",
        "\n",
        "          atom_type = line[12:15].strip()\n",
        "          resi = line[17:20]\n",
        "\n",
        "          if atom_type=='CA':\n",
        "            plddt_per_chain[chain].append(plddt)\n",
        "\n",
        "          if atom_type=='CB' or (atom_type=='CA' and resi=='GLY'):\n",
        "            x = float(line[30:37])\n",
        "            y = float(line[38:46])\n",
        "            z = float(line[46:54])\n",
        "            CB_coords_per_chain[chain].append(np.array([x,y,z]))\n",
        "\n",
        "\n",
        "          if (idx == row1.position-row1.cs and chain=='A'):\n",
        "              color = \"magenta\"\n",
        "              view.setStyle({'model': -1, 'serial': i+1}, {\"sphere\": {'color': color}})\n",
        "\n",
        "          i += 1\n",
        "      view.zoomTo()\n",
        "      view.show()\n",
        "\n",
        "      #Calculate interface\n",
        "      mat = np.concatenate([np.array(CB_coords_per_chain['A']), np.array(CB_coords_per_chain['B'])])\n",
        "      a_min_b = mat[:,np.newaxis,:] -mat[np.newaxis,:,:]\n",
        "      dists = np.sqrt(np.sum(a_min_b.T ** 2, axis=0)).T\n",
        "      l1 = len(CB_coords_per_chain['A'])\n",
        "      #Get interface\n",
        "      contact_dists = dists[:l1,l1:] #first dimension = peptide, second = receptor\n",
        "      contacts = np.argwhere(contact_dists<=interface_cutoff)\n",
        "      if contacts.shape[0]<1:\n",
        "        pdockq=0\n",
        "\n",
        "      else:\n",
        "        #Get the average interface plDDT\n",
        "        plddt1 = np.array(plddt_per_chain['A'])\n",
        "        plddt2 = np.array(plddt_per_chain['B'])\n",
        "        avg_if_plddt = np.average(np.concatenate([plddt1[np.unique(contacts[:,0])], plddt2[np.unique(contacts[:,1])]]))\n",
        "        #Get the number of interface contacts\n",
        "        n_if_contacts = contacts.shape[0]\n",
        "        x = avg_if_plddt*np.log10(n_if_contacts)\n",
        "        pdockq = 0.724 / (1 + np.exp(-0.052*(x-152.611)))+0.018\n",
        "      print(pred)\n",
        "      print('pDockQ =',np.round(pdockq,3))\n"
      ],
      "metadata": {
        "colab": {
          "base_uri": "https://localhost:8080/",
          "height": 207
        },
        "id": "hFnnB67hOxXo",
        "outputId": "f29bbcdb-2d50-4f97-e705-8f1fc5a3e889"
      },
      "execution_count": 6,
      "outputs": [
        {
          "output_type": "error",
          "ename": "NameError",
          "evalue": "name 'plddt_df' is not defined",
          "traceback": [
            "\u001b[0;31m---------------------------------------------------------------------------\u001b[0m",
            "\u001b[0;31mNameError\u001b[0m                                 Traceback (most recent call last)",
            "\u001b[0;32m<ipython-input-6-929dcebba3d0>\u001b[0m in \u001b[0;36m<cell line: 12>\u001b[0;34m()\u001b[0m\n\u001b[1;32m     10\u001b[0m \u001b[0;32mimport\u001b[0m \u001b[0mglob\u001b[0m\u001b[0;34m\u001b[0m\u001b[0;34m\u001b[0m\u001b[0m\n\u001b[1;32m     11\u001b[0m \u001b[0;31m#Go through all mutation crops\u001b[0m\u001b[0;34m\u001b[0m\u001b[0;34m\u001b[0m\u001b[0m\n\u001b[0;32m---> 12\u001b[0;31m \u001b[0;32mfor\u001b[0m \u001b[0mind1\u001b[0m\u001b[0;34m,\u001b[0m \u001b[0mrow1\u001b[0m \u001b[0;32min\u001b[0m \u001b[0mplddt_df\u001b[0m\u001b[0;34m.\u001b[0m\u001b[0miterrows\u001b[0m\u001b[0;34m(\u001b[0m\u001b[0;34m)\u001b[0m\u001b[0;34m:\u001b[0m\u001b[0;34m\u001b[0m\u001b[0;34m\u001b[0m\u001b[0m\n\u001b[0m\u001b[1;32m     13\u001b[0m   \u001b[0mprint\u001b[0m\u001b[0;34m(\u001b[0m\u001b[0;34m'Mut'\u001b[0m\u001b[0;34m,\u001b[0m \u001b[0mrow1\u001b[0m\u001b[0;34m.\u001b[0m\u001b[0mmut\u001b[0m\u001b[0;34m)\u001b[0m\u001b[0;34m\u001b[0m\u001b[0;34m\u001b[0m\u001b[0m\n\u001b[1;32m     14\u001b[0m   \u001b[0;32mfor\u001b[0m \u001b[0mind2\u001b[0m\u001b[0;34m,\u001b[0m \u001b[0mrow2\u001b[0m \u001b[0;32min\u001b[0m \u001b[0msel_seqs\u001b[0m\u001b[0;34m.\u001b[0m\u001b[0miterrows\u001b[0m\u001b[0;34m(\u001b[0m\u001b[0;34m)\u001b[0m\u001b[0;34m:\u001b[0m\u001b[0;34m\u001b[0m\u001b[0;34m\u001b[0m\u001b[0m\n",
            "\u001b[0;31mNameError\u001b[0m: name 'plddt_df' is not defined"
          ]
        }
      ]
    }
  ]
}