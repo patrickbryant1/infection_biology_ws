{
  "nbformat": 4,
  "nbformat_minor": 0,
  "metadata": {
    "colab": {
      "provenance": [],
      "authorship_tag": "ABX9TyMqO3eSIEI2Jf72Eu55BLHN",
      "include_colab_link": true
    },
    "kernelspec": {
      "name": "python3",
      "display_name": "Python 3"
    },
    "language_info": {
      "name": "python"
    }
  },
  "cells": [
    {
      "cell_type": "markdown",
      "metadata": {
        "id": "view-in-github",
        "colab_type": "text"
      },
      "source": [
        "<a href=\"https://colab.research.google.com/github/patrickbryant1/infection_biology_ws/blob/main/Infection_biology_ws.ipynb\" target=\"_parent\"><img src=\"https://colab.research.google.com/assets/colab-badge.svg\" alt=\"Open In Colab\"/></a>"
      ]
    },
    {
      "cell_type": "code",
      "execution_count": null,
      "metadata": {
        "id": "wd-CiBVNHZFj"
      },
      "outputs": [],
      "source": []
    },
    {
      "cell_type": "markdown",
      "source": [
        "### AI Applications in Infection Biology\n",
        "\n",
        "Hi and welcome to the protein structure prediction exercise for the course AI Applications in Infection Biology.\n",
        "This exercise is about finding interesting targets to modulate infection and then modulating the infection by designing an inhibitor (drug).\n",
        "\\\n",
        "\\\n",
        "Please follow the instructions below."
      ],
      "metadata": {
        "id": "-45u160uK4Qy"
      }
    }
  ]
}